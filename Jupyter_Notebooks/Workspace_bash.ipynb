{
 "cells": [
  {
   "cell_type": "code",
   "execution_count": 4,
   "metadata": {},
   "outputs": [
    {
     "name": "stdout",
     "output_type": "stream",
     "text": [
      "[NbConvertApp] Converting notebook Workspace_bash.ipynb to python\n",
      "[NbConvertApp] Writing 522 bytes to Workspace_bash.py\n",
      "[NbConvertApp] Converting notebook bam2gff.ipynb to python\n",
      "[NbConvertApp] Writing 620 bytes to bam2gff.py\n",
      "[NbConvertApp] Converting notebook gff2introns.ipynb to python\n",
      "[NbConvertApp] Writing 3338 bytes to gff2introns.py\n"
     ]
    }
   ],
   "source": [
    "jupyter nbconvert --to python *.ipynb"
   ]
  },
  {
   "cell_type": "code",
   "execution_count": null,
   "metadata": {},
   "outputs": [],
   "source": [
    "# Prepare transcript annotations from Nanopore data"
   ]
  },
  {
   "cell_type": "code",
   "execution_count": null,
   "metadata": {},
   "outputs": [],
   "source": [
    "# Mapping\n"
   ]
  },
  {
   "cell_type": "code",
   "execution_count": null,
   "metadata": {},
   "outputs": [],
   "source": [
    "# generate transcript annotations\n",
    "bash bam2gff.sh -b merged.L1.minimap2.sort.bam -o merged.L1.minimap2.sort.bam.gff -p /Users/kuroyanagi/pinfish"
   ]
  },
  {
   "cell_type": "code",
   "execution_count": null,
   "metadata": {},
   "outputs": [],
   "source": [
    "# generate intron annotations\n",
    "python gff2introns.py --GFF merged.L1.minimap2.sort.bam.gff"
   ]
  },
  {
   "cell_type": "code",
   "execution_count": null,
   "metadata": {},
   "outputs": [],
   "source": [
    "# label gene names\n",
    "intersectBed -s -loj -a collapsed_transcripts_N2_KH1668.gff\\\n",
    "-b /Users/kuroyanagi/expression/Caenorhabditis_elegans/WS271/Exon_caenorhabditis_elegans.PRJNA13758.WBPS14.canonical_geneset.gtf\\\n",
    "> collapsed_transcripts_N2_KH1668.int.gff\n",
    "\n",
    "# filter and process transcripts in R"
   ]
  },
  {
   "cell_type": "code",
   "execution_count": null,
   "metadata": {},
   "outputs": [],
   "source": []
  },
  {
   "cell_type": "code",
   "execution_count": null,
   "metadata": {},
   "outputs": [],
   "source": []
  },
  {
   "cell_type": "code",
   "execution_count": null,
   "metadata": {},
   "outputs": [],
   "source": [
    "# Machine learning"
   ]
  },
  {
   "cell_type": "code",
   "execution_count": null,
   "metadata": {},
   "outputs": [],
   "source": [
    "# fastq to fasta\n",
    "awk '(NR - 1) % 4 < 2' /Volumes/DATA_3/190926_DrKuroyanagi_sams_345/190926_DrKuroyanagi_sams_345/20190926_0543_MN17290_FAK89523_0ee12f5a/1d.fq |\\\n",
    "sed 's/@/>/' > /Volumes/DATA_3/190926_DrKuroyanagi_sams_345/190926_DrKuroyanagi_sams_345/20190926_0543_MN17290_FAK89523_0ee12f5a/1d.fasta"
   ]
  },
  {
   "cell_type": "code",
   "execution_count": null,
   "metadata": {},
   "outputs": [],
   "source": [
    "# check barcodes\n"
   ]
  },
  {
   "cell_type": "code",
   "execution_count": null,
   "metadata": {},
   "outputs": [],
   "source": [
    "# subset reads\n",
    "fast5_subset --input $fast5_path --save_path $fast5_GUCAUCCC --read_id_list sams345_read_id_GUCAUCCC.txt\n",
    "fast5_subset --input $fast5_path --save_path $fast5_GUCAUGGG --read_id_list sams345_read_id_GUCAUGGG.txt"
   ]
  },
  {
   "cell_type": "code",
   "execution_count": null,
   "metadata": {},
   "outputs": [],
   "source": [
    "# unpack multifast5\n",
    "multi_to_single_fast5 -i $fast5_GUCAUCCC -s $fast5_GUCAUCCC -t 10\n",
    "multi_to_single_fast5 -i $fast5_GUCAUGGG -s $fast5_GUCAUGGG -t 10"
   ]
  },
  {
   "cell_type": "code",
   "execution_count": null,
   "metadata": {},
   "outputs": [],
   "source": [
    "# Tombo annotate\n",
    "tombo preprocess annotate_raw_with_fastqs --fast5-basedir $fast5_GUCAUCCC --fastq-filenames $fq_path --sequencing-summary-filenames $summary_path --processes 10 --overwrite --corrected-group RawGenomeCorrected_sams345\n",
    "tombo preprocess annotate_raw_with_fastqs --fast5-basedir $fast5_GUCAUGGG --fastq-filenames $fq_path --sequencing-summary-filenames $summary_path --processes 10 --overwrite --corrected-group RawGenomeCorrected_sams345"
   ]
  },
  {
   "cell_type": "code",
   "execution_count": null,
   "metadata": {},
   "outputs": [],
   "source": [
    "# Tombo mapping\n",
    "tombo resquiggle --rna --processes 10 --num-most-common-errors 5 --overwrite --corrected-group RawGenomeCorrected_sams345 $fast5_GUCAUCCC sams-345_extension1kb.fa\n",
    "tombo resquiggle --rna --processes 10 --num-most-common-errors 5 --overwrite --corrected-group RawGenomeCorrected_sams345 $fast5_GUCAUGGG sams-345_extension1kb.fa"
   ]
  },
  {
   "cell_type": "code",
   "execution_count": null,
   "metadata": {},
   "outputs": [],
   "source": []
  },
  {
   "cell_type": "code",
   "execution_count": null,
   "metadata": {},
   "outputs": [],
   "source": []
  },
  {
   "cell_type": "code",
   "execution_count": null,
   "metadata": {},
   "outputs": [],
   "source": []
  },
  {
   "cell_type": "code",
   "execution_count": null,
   "metadata": {},
   "outputs": [],
   "source": []
  },
  {
   "cell_type": "code",
   "execution_count": null,
   "metadata": {},
   "outputs": [],
   "source": []
  },
  {
   "cell_type": "code",
   "execution_count": null,
   "metadata": {},
   "outputs": [],
   "source": []
  }
 ],
 "metadata": {
  "kernelspec": {
   "display_name": "Bash",
   "language": "bash",
   "name": "bash"
  },
  "language_info": {
   "codemirror_mode": "shell",
   "file_extension": ".sh",
   "mimetype": "text/x-sh",
   "name": "bash"
  }
 },
 "nbformat": 4,
 "nbformat_minor": 2
}
