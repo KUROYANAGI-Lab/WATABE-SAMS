{
 "cells": [
  {
   "cell_type": "code",
   "execution_count": null,
   "metadata": {},
   "outputs": [],
   "source": [
    "#!/bin/bash\n",
    "#Pinfish bam to gff\n",
    "#Input and optput\n",
    "while getopts 'b:o:p:' optname\n",
    "  do\n",
    "    case $optname in\n",
    "      b)\n",
    "        bamFile=$OPTARG;;\n",
    "      o)\n",
    "        gffFile=$OPTARG;;\n",
    "      p)\n",
    "        pinfishDir=$OPTARG;;\n",
    "    esac\n",
    "  done\n",
    "  \n",
    "\n",
    "#cluster file\n",
    "clusterFile = bamFile.replace('.bam', '.cluster')\n",
    "\n",
    "#minimap2 bam to gff\n",
    "\"$pinfishDir\"/spliced_bam2gff/spliced_bam2gff -M -s \"$bamFile\" |\\\n",
    "\n",
    "#cluster gff\n",
    "\"$pinfishDir\"/cluster_gff/cluster_gff -c 3 -d 2 -e 30 -a \"$clusterFile\" |\\\n",
    "\n",
    "#collapse gff\n",
    "\"$pinfishDir\"/collapse_partials/collapse_partials -d 2 -e 30 -f 1000 > \"$gffFile\""
   ]
  }
 ],
 "metadata": {
  "kernelspec": {
   "display_name": "Bash",
   "language": "bash",
   "name": "bash"
  },
  "language_info": {
   "codemirror_mode": "shell",
   "file_extension": ".sh",
   "mimetype": "text/x-sh",
   "name": "bash"
  }
 },
 "nbformat": 4,
 "nbformat_minor": 2
}
