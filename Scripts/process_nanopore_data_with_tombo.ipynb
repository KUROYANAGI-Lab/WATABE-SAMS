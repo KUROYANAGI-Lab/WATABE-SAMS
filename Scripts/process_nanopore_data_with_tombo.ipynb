{
 "cells": [
  {
   "cell_type": "markdown",
   "metadata": {},
   "source": [
    "# Processing Nanopore data of sams RNAs for machine learning"
   ]
  },
  {
   "cell_type": "code",
   "execution_count": null,
   "metadata": {},
   "outputs": [],
   "source": [
    "# process and mapping Nanopore reads by using Tombo"
   ]
  },
  {
   "cell_type": "code",
   "execution_count": null,
   "metadata": {},
   "outputs": [],
   "source": [
    "# fastq to fasta\n",
    "awk '(NR - 1) % 4 < 2' path/to/fastq | sed 's/@/>/' > path/to/fasta"
   ]
  },
  {
   "cell_type": "code",
   "execution_count": null,
   "metadata": {},
   "outputs": [],
   "source": [
    "# list up barcoded reads\n",
    "# sams345_read_id_GUCAUCCC.txt and sams345_read_id_GUCAUGGG.txt will be generated\n",
    "Rscript extract_barcoded_read_ids.R path/to/fasta"
   ]
  },
  {
   "cell_type": "code",
   "execution_count": null,
   "metadata": {},
   "outputs": [],
   "source": [
    "# subset barcoded reads\n",
    "fast5_subset --input path/to/fast5 --save_path path/to/fast5_GUCAUCCC --read_id_list sams345_read_id_GUCAUCCC.txt\n",
    "fast5_subset --input path/to/fast5 --save_path path/to/fast5_GUCAUGGG --read_id_list sams345_read_id_GUCAUGGG.txt"
   ]
  },
  {
   "cell_type": "code",
   "execution_count": null,
   "metadata": {},
   "outputs": [],
   "source": [
    "# unpack fast5 files in case of multifast5\n",
    "multi_to_single_fast5 -i path/to/fast5_GUCAUCCC -s path/to/fast5_GUCAUCCC_single -t 10\n",
    "multi_to_single_fast5 -i path/to/fast5_GUCAUGGG -s path/to/fast5_GUCAUGGG_single -t 10"
   ]
  },
  {
   "cell_type": "code",
   "execution_count": null,
   "metadata": {},
   "outputs": [],
   "source": [
    "# Tombo annotating\n",
    "tombo preprocess annotate_raw_with_fastqs --fast5-basedir path/to/fast5_GUCAUCCC_single --fastq-filenames path/to/fastq --sequencing-summary-filenames path/to/summary.txt --processes 10 --overwrite --corrected-group sams-3_E2E3L_and_sams-5_E2LE3L\n",
    "tombo preprocess annotate_raw_with_fastqs --fast5-basedir path/to/fast5_GUCAUGGG_single --fastq-filenames path/to/fastq --sequencing-summary-filenames path/to/summary.txt --processes 10 --overwrite --corrected-group sams-3_E2E3L_and_sams-5_E2LE3L"
   ]
  },
  {
   "cell_type": "code",
   "execution_count": null,
   "metadata": {},
   "outputs": [],
   "source": [
    "# Tombo mapping\n",
    "# use sams-3_E2E3L_and_sams-5_E2LE3L_extension1kb.fa and All_sams_transcripts_extension1kb.fa for in vitro and in vivo, repectively\n",
    "tombo resquiggle --rna --processes 10 --num-most-common-errors 5 --include-event-stdev --overwrite --corrected-group sams-3_E2E3L_and_sams-5_E2LE3L path/to/fast5_GUCAUCCC_single sams-3_E2E3L_and_sams-5_E2LE3L_extension1kb.fa\n",
    "tombo resquiggle --rna --processes 10 --num-most-common-errors 5 --include-event-stdev --overwrite --corrected-group sams-3_E2E3L_and_sams-5_E2LE3L path/to/fast5_GUCAUGGG_single sams-3_E2E3L_and_sams-5_E2LE3L_extension1kb.fa"
   ]
  },
  {
   "cell_type": "code",
   "execution_count": null,
   "metadata": {},
   "outputs": [],
   "source": [
    "# plot squiggle\n",
    "tombo plot genome_locations --fast5-basedirs path/to/fast5_GUCAUGGG_single --control-fast5-basedirs path/to/fast5_GUCAUCCC_single \\\n",
    "--genome-locations sams-3_E2/E3L:1262:+ --overplot-type Downsample --overplot-threshold 100 --num-bases 9 \\\n",
    "--pdf-filename tombo_squiggle_sams-3E2E3L_100reads.pdf"
   ]
  }
 ],
 "metadata": {
  "kernelspec": {
   "display_name": "Bash",
   "language": "bash",
   "name": "bash"
  },
  "language_info": {
   "codemirror_mode": "shell",
   "file_extension": ".sh",
   "mimetype": "text/x-sh",
   "name": "bash"
  }
 },
 "nbformat": 4,
 "nbformat_minor": 2
}
