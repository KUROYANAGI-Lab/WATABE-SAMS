{
 "cells": [
  {
   "cell_type": "markdown",
   "metadata": {},
   "source": [
    "# Extract Nanopore current values from Tombo outputs"
   ]
  },
  {
   "cell_type": "code",
   "execution_count": null,
   "metadata": {},
   "outputs": [],
   "source": [
    "import numpy as np\n",
    "import pandas as pd\n",
    "import pickle\n",
    "import h5py\n",
    "import random\n",
    "from tombo import tombo_helper\n",
    "from tqdm.notebook import tqdm"
   ]
  },
  {
   "cell_type": "code",
   "execution_count": null,
   "metadata": {},
   "outputs": [],
   "source": [
    "# fast5 directories\n",
    "fast5s = {'unm': 'path/to/fast5',\n",
    "          'm6A': 'path/to/fast5',\n",
    "          'vivo': 'path/to/fast5'\n",
    "          }\n",
    "\n",
    "# references\n",
    "tombo_groups = {'unm': 'sams-3_E2E3L_and_sams-5_E2LE3L',\n",
    "                'm6A': 'sams-3_E2E3L_and_sams-5_E2LE3L',\n",
    "                'vivo': 'All_sams_transcripts',\n",
    "                }\n",
    "\n",
    "# the m6A site in the transcript\n",
    "plotSites = {'sams-3_E2/E3L': 1262,\n",
    "             'sams-3_retained': 1538,\n",
    "             'sams-4_E2/E3L': 1265,\n",
    "             'sams-4_E2L/E3L': 1388,\n",
    "             'sams-4_retained': 1545,\n",
    "             'sams-5_E2L/E3L': 1315\n",
    "            }"
   ]
  },
  {
   "cell_type": "code",
   "execution_count": null,
   "metadata": {
    "scrolled": true
   },
   "outputs": [],
   "source": [
    "# extract current data\n",
    "\n",
    "# each sample\n",
    "current = pd.DataFrame()\n",
    "for sample_name, fast5_path in fast5s.items():\n",
    "    \n",
    "    # load tombo-annotated reads\n",
    "    tmb = tombo_helper.TomboReads([fast5_path], corrected_group=tombo_groups[sample_name])\n",
    "    \n",
    "    \n",
    "    # each transcript\n",
    "    df2 = pd.DataFrame()\n",
    "    for transcript, position in plotSites.items():\n",
    "        \n",
    "        # tracking\n",
    "        print(transcript + ' in ' + sample_name)\n",
    "        \n",
    "        # retrieve reads on the sams transcript\n",
    "        reads = tmb.get_cs_reads(chrm=transcript, strand='+')\n",
    "        random.shuffle(reads)\n",
    "\n",
    "\n",
    "        # each read\n",
    "        df1 = []\n",
    "        for read in tqdm(reads, desc='reads', leave=False):\n",
    "            \n",
    "            # the m6A site and +-50 nt\n",
    "            plotStart = position - read.start - 50 - 1\n",
    "            plotEnd = position - read.start + 50\n",
    "            \n",
    "            # check whether the read covers the 100 nt region\n",
    "            if plotStart < 0 or read.end < (position + 50):\n",
    "                \n",
    "                continue\n",
    "                \n",
    "            # extract current data\n",
    "            path = read.fn\n",
    "            f5 = h5py.File(path, 'r')\n",
    "            \n",
    "            # mean, stdev and duration\n",
    "            mean = f5['Analyses/' + tombo_groups[sample_name] + '/BaseCalled_template/Events'].value['norm_mean'][plotStart:plotEnd]\n",
    "            stdev = f5['Analyses/' + tombo_groups[sample_name] + '/BaseCalled_template/Events'].value['norm_stdev'][plotStart:plotEnd]\n",
    "            duration = f5['Analyses/' + tombo_groups[sample_name] + '/BaseCalled_template/Events'].value['length'][plotStart:plotEnd]\n",
    "            df1.append(np.concatenate([mean, stdev, duration]))\n",
    "            \n",
    "        df1 = pd.DataFrame(df1)\n",
    "\n",
    "        # label the sams transcript name\n",
    "        df1['sams'] = transcript\n",
    "        df2 = df2.append(df1)\n",
    "        \n",
    "    \n",
    "    # label the sample name\n",
    "    df2['RNA'] = sample_name\n",
    "    current = current.append(df2)\n",
    "\n",
    "    \n",
    "# save extracted current data in a pickle file\n",
    "with open('fast5_current_m6A_sams-345_100nt.pickle', 'wb') as f:\n",
    "    pickle.dump(current, f)"
   ]
  }
 ],
 "metadata": {
  "kernelspec": {
   "display_name": "Python 3",
   "language": "python",
   "name": "python3"
  },
  "language_info": {
   "codemirror_mode": {
    "name": "ipython",
    "version": 3
   },
   "file_extension": ".py",
   "mimetype": "text/x-python",
   "name": "python",
   "nbconvert_exporter": "python",
   "pygments_lexer": "ipython3",
   "version": "3.6.8"
  }
 },
 "nbformat": 4,
 "nbformat_minor": 2
}
