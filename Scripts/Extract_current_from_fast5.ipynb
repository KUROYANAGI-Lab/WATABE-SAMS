{
 "cells": [
  {
   "cell_type": "markdown",
   "metadata": {},
   "source": [
    "# Extract Fast5 data"
   ]
  },
  {
   "cell_type": "code",
   "execution_count": null,
   "metadata": {},
   "outputs": [],
   "source": []
  },
  {
   "cell_type": "code",
   "execution_count": 1,
   "metadata": {},
   "outputs": [],
   "source": [
    "# packages\n",
    "import numpy as np\n",
    "import pandas as pd\n",
    "import pickle"
   ]
  },
  {
   "cell_type": "code",
   "execution_count": 2,
   "metadata": {},
   "outputs": [
    {
     "name": "stdout",
     "output_type": "stream",
     "text": [
      "(373772, 305)\n"
     ]
    }
   ],
   "source": [
    "# load current data\n",
    "with open('fast5_current_m6A_sams-345_100nt.pickle', 'rb') as f:\n",
    "    current = pickle.load(f)\n",
    "print(current.shape)"
   ]
  },
  {
   "cell_type": "code",
   "execution_count": 4,
   "metadata": {},
   "outputs": [],
   "source": [
    "current.to_csv('fast5_current_m6A_sams-345_100nt.csv')"
   ]
  },
  {
   "cell_type": "code",
   "execution_count": null,
   "metadata": {},
   "outputs": [],
   "source": []
  },
  {
   "cell_type": "code",
   "execution_count": null,
   "metadata": {},
   "outputs": [],
   "source": []
  },
  {
   "cell_type": "code",
   "execution_count": null,
   "metadata": {},
   "outputs": [],
   "source": [
    "# check fast5 structure"
   ]
  },
  {
   "cell_type": "code",
   "execution_count": 1,
   "metadata": {},
   "outputs": [],
   "source": [
    "# load packages\n",
    "import h5py\n",
    "import numpy as np\n",
    "import pandas as pd\n",
    "import random\n",
    "from tombo import tombo_helper\n",
    "from tqdm import tqdm_notebook as tqdm"
   ]
  },
  {
   "cell_type": "code",
   "execution_count": 139,
   "metadata": {},
   "outputs": [],
   "source": [
    "# load fast5\n",
    "f5 = '/Volumes/DATA_3/190926_DrKuroyanagi_sams_345/190926_DrKuroyanagi_sams_345/20190926_0543_MN17290_FAK89523_0ee12f5a/fast5_pass_GUCAUGGG_single/1/ffff4209-d57a-433a-b194-1c5ff2a47c2a.fast5'\n",
    "f5 = h5py.File(f5, 'r')"
   ]
  },
  {
   "cell_type": "code",
   "execution_count": 176,
   "metadata": {},
   "outputs": [
    {
     "name": "stdout",
     "output_type": "stream",
     "text": [
      "Analyses\n",
      "Analyses/Segmentation_000\n",
      "Analyses/Segmentation_000/Summary\n",
      "Analyses/Segmentation_000/Summary/segmentation\n",
      "Analyses/Basecall_1D_000\n",
      "Analyses/Basecall_1D_000/BaseCalled_template\n",
      "Analyses/Basecall_1D_000/BaseCalled_template/Fastq\n",
      "Analyses/RawGenomeCorrected_000\n",
      "Analyses/RawGenomeCorrected_000/BaseCalled_template\n",
      "Analyses/RawGenomeCorrected_000/BaseCalled_template/Alignment\n",
      "Analyses/RawGenomeCorrected_000/BaseCalled_template/Events\n",
      "Analyses/RawGenomeCorrected_sams345\n",
      "Analyses/RawGenomeCorrected_sams345/BaseCalled_template\n",
      "Analyses/RawGenomeCorrected_sams345/BaseCalled_template/Alignment\n",
      "Analyses/RawGenomeCorrected_sams345/BaseCalled_template/Events\n",
      "Raw\n",
      "Raw/Reads\n",
      "Raw/Reads/Read_62214\n",
      "Raw/Reads/Read_62214/Signal\n",
      "UniqueGlobalKey\n",
      "UniqueGlobalKey/channel_id\n",
      "UniqueGlobalKey/context_tags\n",
      "UniqueGlobalKey/tracking_id\n"
     ]
    }
   ],
   "source": [
    "# check items\n",
    "def printAll(name):\n",
    "    print(name)\n",
    "\n",
    "f5.visit(printAll)"
   ]
  },
  {
   "cell_type": "code",
   "execution_count": null,
   "metadata": {},
   "outputs": [],
   "source": []
  },
  {
   "cell_type": "code",
   "execution_count": null,
   "metadata": {},
   "outputs": [],
   "source": []
  },
  {
   "cell_type": "code",
   "execution_count": null,
   "metadata": {},
   "outputs": [],
   "source": [
    "# extract current"
   ]
  },
  {
   "cell_type": "code",
   "execution_count": 2,
   "metadata": {},
   "outputs": [],
   "source": [
    "# fast5 file paths\n",
    "fast5s = {'unm': '/Volumes/DATA_3/190926_DrKuroyanagi_sams_345/190926_DrKuroyanagi_sams_345/20190926_0543_MN17290_FAK89523_0ee12f5a/fast5_pass_single_unm',\n",
    "          'm6A': '/Volumes/DATA_3/190926_DrKuroyanagi_sams_345/190926_DrKuroyanagi_sams_345/20190926_0543_MN17290_FAK89523_0ee12f5a/fast5_pass_single_m6A',\n",
    "          'vivo': '/Volumes/DATA_2/sams/MinION/20190326_0351_190326_DrKuroyanagi_w12457/RAW/fast5',\n",
    "          'unm long': '/Volumes/DATA_2/sams/MinION/20190326_0350_190326_DrKuroyanagi_sams3_sams4/RAW/fast5_filtered'\n",
    "          }\n",
    "\n",
    "# output range\n",
    "region = 51"
   ]
  },
  {
   "cell_type": "code",
   "execution_count": 3,
   "metadata": {},
   "outputs": [],
   "source": [
    "# for sams-3b and sams-5b\n",
    "# plot sites\n",
    "plotSites = {'sams-3b': 1262, 'sams-5b': 1315}\n",
    "\n",
    "# tombo groups\n",
    "tombo_groups = {'unm': 'RawGenomeCorrected_sams3b5',\n",
    "                'm6A': 'RawGenomeCorrected_sams3b5',\n",
    "                'vivo': 'RawGenomeCorrected_sams3abc4bdef5',\n",
    "                'unm long': 'RawGenomeCorrected_sams3abc4bdef5'\n",
    "                }\n",
    "\n",
    "# csv file name\n",
    "out_name = 'fast5_current_m6A_sams-3b5_100nt.csv'"
   ]
  },
  {
   "cell_type": "code",
   "execution_count": 9,
   "metadata": {},
   "outputs": [],
   "source": [
    "# for sams-3c\n",
    "# plot sites\n",
    "plotSites = {'sams-3c': 1538, 'sams-5b': 1315}\n",
    "\n",
    "# tombo groups\n",
    "tombo_groups = {'unm': 'RawGenomeCorrected_sams3c5',\n",
    "                'm6A': 'RawGenomeCorrected_sams3c5',\n",
    "                'vivo': 'RawGenomeCorrected_sams3abc4bdef5',\n",
    "                'unm long': 'RawGenomeCorrected_sams3abc4bdef5'\n",
    "                }\n",
    "\n",
    "# csv file name\n",
    "out_name = 'fast5_current_m6A_sams-3c5_100nt.csv'"
   ]
  },
  {
   "cell_type": "code",
   "execution_count": 12,
   "metadata": {},
   "outputs": [],
   "source": [
    "# for sams-4d\n",
    "# plot sites\n",
    "plotSites = {'sams-4d': 1265, 'sams-5b': 1315}\n",
    "\n",
    "# tombo groups\n",
    "tombo_groups = {'unm': 'RawGenomeCorrected_sams4d5',\n",
    "                'm6A': 'RawGenomeCorrected_sams4d5',\n",
    "                'vivo': 'RawGenomeCorrected_sams3abc4bdef5',\n",
    "                'unm long': 'RawGenomeCorrected_sams3abc4bdef5'\n",
    "                }\n",
    "\n",
    "# csv file name\n",
    "out_name = 'fast5_current_m6A_sams-4d5_100nt.csv'"
   ]
  },
  {
   "cell_type": "code",
   "execution_count": 14,
   "metadata": {},
   "outputs": [],
   "source": [
    "# for sams-4e\n",
    "# plot sites\n",
    "plotSites = {'sams-4e': 1388, 'sams-5b': 1315}\n",
    "\n",
    "# tombo groups\n",
    "tombo_groups = {'unm': 'RawGenomeCorrected_sams4e5',\n",
    "                'm6A': 'RawGenomeCorrected_sams4e5',\n",
    "                'vivo': 'RawGenomeCorrected_sams3abc4bdef5',\n",
    "                'unm long': 'RawGenomeCorrected_sams3abc4bdef5'\n",
    "                }\n",
    "\n",
    "# csv file name\n",
    "out_name = 'fast5_current_m6A_sams-4e5_100nt.csv'"
   ]
  },
  {
   "cell_type": "code",
   "execution_count": 16,
   "metadata": {},
   "outputs": [],
   "source": [
    "# for sams-4f\n",
    "# plot sites\n",
    "plotSites = {'sams-4f': 1545, 'sams-5b': 1315}\n",
    "\n",
    "# tombo groups\n",
    "tombo_groups = {'unm': 'RawGenomeCorrected_sams4f5',\n",
    "                'm6A': 'RawGenomeCorrected_sams4f5',\n",
    "                'vivo': 'RawGenomeCorrected_sams3abc4bdef5',\n",
    "                'unm long': 'RawGenomeCorrected_sams3abc4bdef5'\n",
    "                }\n",
    "\n",
    "# csv file name\n",
    "out_name = 'fast5_current_m6A_sams-4f5_100nt.csv'"
   ]
  },
  {
   "cell_type": "code",
   "execution_count": null,
   "metadata": {},
   "outputs": [],
   "source": []
  },
  {
   "cell_type": "code",
   "execution_count": null,
   "metadata": {},
   "outputs": [],
   "source": []
  },
  {
   "cell_type": "code",
   "execution_count": 17,
   "metadata": {
    "scrolled": true
   },
   "outputs": [
    {
     "name": "stderr",
     "output_type": "stream",
     "text": [
      "[01:27:33] Parsing Tombo index file(s).\n"
     ]
    },
    {
     "data": {
      "application/vnd.jupyter.widget-view+json": {
       "model_id": "0fc280bf665742e4af0d01299fce6f2a",
       "version_major": 2,
       "version_minor": 0
      },
      "text/plain": [
       "HBox(children=(IntProgress(value=1, bar_style='info', max=1), HTML(value='')))"
      ]
     },
     "metadata": {},
     "output_type": "display_data"
    },
    {
     "data": {
      "application/vnd.jupyter.widget-view+json": {
       "model_id": "d2d8fad30e054c55977232941be0524a",
       "version_major": 2,
       "version_minor": 0
      },
      "text/plain": [
       "HBox(children=(IntProgress(value=0, description='reads: ', max=7952), HTML(value='')))"
      ]
     },
     "metadata": {},
     "output_type": "display_data"
    },
    {
     "name": "stdout",
     "output_type": "stream",
     "text": [
      "\r"
     ]
    },
    {
     "data": {
      "application/vnd.jupyter.widget-view+json": {
       "model_id": "1c0ca3efcf67405cb28d2c2b3e1eeb25",
       "version_major": 2,
       "version_minor": 0
      },
      "text/plain": [
       "HBox(children=(IntProgress(value=1, bar_style='info', max=1), HTML(value='')))"
      ]
     },
     "metadata": {},
     "output_type": "display_data"
    },
    {
     "data": {
      "application/vnd.jupyter.widget-view+json": {
       "model_id": "58fb1c070450466da94bb02fdb2a109c",
       "version_major": 2,
       "version_minor": 0
      },
      "text/plain": [
       "HBox(children=(IntProgress(value=0, description='reads: ', max=13739), HTML(value='')))"
      ]
     },
     "metadata": {},
     "output_type": "display_data"
    },
    {
     "name": "stderr",
     "output_type": "stream",
     "text": [
      "[01:28:04] Parsing Tombo index file(s).\n"
     ]
    },
    {
     "name": "stdout",
     "output_type": "stream",
     "text": [
      "\r"
     ]
    },
    {
     "data": {
      "application/vnd.jupyter.widget-view+json": {
       "model_id": "eeb97ab015e0471aa509a25e29606ee7",
       "version_major": 2,
       "version_minor": 0
      },
      "text/plain": [
       "HBox(children=(IntProgress(value=1, bar_style='info', max=1), HTML(value='')))"
      ]
     },
     "metadata": {},
     "output_type": "display_data"
    },
    {
     "data": {
      "application/vnd.jupyter.widget-view+json": {
       "model_id": "a402bd49c1f940babf5f77391588fb49",
       "version_major": 2,
       "version_minor": 0
      },
      "text/plain": [
       "HBox(children=(IntProgress(value=0, description='reads: ', max=3299), HTML(value='')))"
      ]
     },
     "metadata": {},
     "output_type": "display_data"
    },
    {
     "name": "stdout",
     "output_type": "stream",
     "text": [
      "\r"
     ]
    },
    {
     "data": {
      "application/vnd.jupyter.widget-view+json": {
       "model_id": "7d2cccbd501f45b7a4e180f36309a673",
       "version_major": 2,
       "version_minor": 0
      },
      "text/plain": [
       "HBox(children=(IntProgress(value=1, bar_style='info', max=1), HTML(value='')))"
      ]
     },
     "metadata": {},
     "output_type": "display_data"
    },
    {
     "data": {
      "application/vnd.jupyter.widget-view+json": {
       "model_id": "a64131c0873444598343506645a7a0f2",
       "version_major": 2,
       "version_minor": 0
      },
      "text/plain": [
       "HBox(children=(IntProgress(value=0, description='reads: ', max=5370), HTML(value='')))"
      ]
     },
     "metadata": {},
     "output_type": "display_data"
    },
    {
     "name": "stderr",
     "output_type": "stream",
     "text": [
      "[01:28:26] Parsing Tombo index file(s).\n"
     ]
    },
    {
     "name": "stdout",
     "output_type": "stream",
     "text": [
      "\r"
     ]
    },
    {
     "data": {
      "application/vnd.jupyter.widget-view+json": {
       "model_id": "b3070011ab654e819274aa3d104028d0",
       "version_major": 2,
       "version_minor": 0
      },
      "text/plain": [
       "HBox(children=(IntProgress(value=1, bar_style='info', max=1), HTML(value='')))"
      ]
     },
     "metadata": {},
     "output_type": "display_data"
    },
    {
     "data": {
      "application/vnd.jupyter.widget-view+json": {
       "model_id": "f8d898dacddd42f8a9959b5c6ac5bfc0",
       "version_major": 2,
       "version_minor": 0
      },
      "text/plain": [
       "HBox(children=(IntProgress(value=0, description='reads: ', max=32), HTML(value='')))"
      ]
     },
     "metadata": {},
     "output_type": "display_data"
    },
    {
     "name": "stdout",
     "output_type": "stream",
     "text": [
      "\r"
     ]
    },
    {
     "data": {
      "application/vnd.jupyter.widget-view+json": {
       "model_id": "cce6e37471c440dcaaaec37001ae5557",
       "version_major": 2,
       "version_minor": 0
      },
      "text/plain": [
       "HBox(children=(IntProgress(value=1, bar_style='info', max=1), HTML(value='')))"
      ]
     },
     "metadata": {},
     "output_type": "display_data"
    },
    {
     "data": {
      "application/vnd.jupyter.widget-view+json": {
       "model_id": "96ea34cbcd864063a7b879134dda49d1",
       "version_major": 2,
       "version_minor": 0
      },
      "text/plain": [
       "HBox(children=(IntProgress(value=0, description='reads: ', max=18), HTML(value='')))"
      ]
     },
     "metadata": {},
     "output_type": "display_data"
    },
    {
     "name": "stderr",
     "output_type": "stream",
     "text": [
      "[01:28:27] Parsing Tombo index file(s).\n"
     ]
    },
    {
     "name": "stdout",
     "output_type": "stream",
     "text": [
      "\r"
     ]
    },
    {
     "data": {
      "application/vnd.jupyter.widget-view+json": {
       "model_id": "55b0e7cb01564723aa846ade5d5a469f",
       "version_major": 2,
       "version_minor": 0
      },
      "text/plain": [
       "HBox(children=(IntProgress(value=1, bar_style='info', max=1), HTML(value='')))"
      ]
     },
     "metadata": {},
     "output_type": "display_data"
    },
    {
     "data": {
      "application/vnd.jupyter.widget-view+json": {
       "model_id": "672cb23f78f24bc581b02d8d3c4eab1c",
       "version_major": 2,
       "version_minor": 0
      },
      "text/plain": [
       "HBox(children=(IntProgress(value=0, description='reads: ', max=59186), HTML(value='')))"
      ]
     },
     "metadata": {},
     "output_type": "display_data"
    },
    {
     "name": "stdout",
     "output_type": "stream",
     "text": [
      "\r"
     ]
    },
    {
     "data": {
      "application/vnd.jupyter.widget-view+json": {
       "model_id": "bb1190e086c04e5c8ff90dfc3c49191c",
       "version_major": 2,
       "version_minor": 0
      },
      "text/plain": [
       "HBox(children=(IntProgress(value=1, bar_style='info', max=1), HTML(value='')))"
      ]
     },
     "metadata": {},
     "output_type": "display_data"
    },
    {
     "data": {
      "application/vnd.jupyter.widget-view+json": {
       "model_id": "61c48f435dcc45e08433802a3a5f19e4",
       "version_major": 2,
       "version_minor": 0
      },
      "text/plain": [
       "HBox(children=(IntProgress(value=0, description='reads: ', max=5), HTML(value='')))"
      ]
     },
     "metadata": {},
     "output_type": "display_data"
    },
    {
     "name": "stdout",
     "output_type": "stream",
     "text": [
      "\r"
     ]
    }
   ],
   "source": [
    "# extract current data\n",
    "\n",
    "# each sample\n",
    "# container\n",
    "current = pd.DataFrame()\n",
    "for sample_name, fast5_path in fast5s.items():\n",
    "    \n",
    "    # load tombo-annotated reads\n",
    "    tmb = tombo_helper.TomboReads([fast5_path], corrected_group=tombo_groups[sample_name])\n",
    "    \n",
    "    \n",
    "    # each transcript\n",
    "    df2 = pd.DataFrame()\n",
    "    for transcript, position in plotSites.items():\n",
    "        \n",
    "        # get reads on a sams gene\n",
    "        reads = tmb.get_cs_reads(chrm=transcript, strand='+')\n",
    "        \n",
    "        # shuffle reads\n",
    "        random.shuffle(reads)\n",
    "\n",
    "\n",
    "        # each read\n",
    "        i = 0\n",
    "        df1 = []\n",
    "        for read in tqdm(reads, desc='reads', leave=False):\n",
    "            \n",
    "            # target region\n",
    "            plotStart = position - read.start - region\n",
    "            plotEnd = position - read.start + region\n",
    "            \n",
    "            # check read length\n",
    "            if plotStart < 0 or read.end < (position + region):\n",
    "                \n",
    "                continue\n",
    "                \n",
    "            # get current data\n",
    "            path = read.fn\n",
    "            f5 = h5py.File(path, 'r')\n",
    "            df1.append(f5['Analyses/' + tombo_groups[sample_name] + '/BaseCalled_template/Events'].value['norm_mean'][plotStart:plotEnd])\n",
    "            \n",
    "            # count (+ excess)\n",
    "            if i == 3300:\n",
    "                break\n",
    "            i += 1\n",
    "            \n",
    "            \n",
    "        df1 = pd.DataFrame(df1)\n",
    "\n",
    "        # label transcript\n",
    "        df1['sams'] = transcript\n",
    "        \n",
    "        df2 = df2.append(df1)\n",
    "        \n",
    "    \n",
    "    # label sample\n",
    "    df2['RNA'] = sample_name\n",
    "    \n",
    "    current = current.append(df2)\n",
    "    \n",
    "    \n",
    "# output\n",
    "current.to_csv(out_name, index=False)"
   ]
  },
  {
   "cell_type": "code",
   "execution_count": 11,
   "metadata": {},
   "outputs": [
    {
     "data": {
      "text/plain": [
       "(15905, 104)"
      ]
     },
     "execution_count": 11,
     "metadata": {},
     "output_type": "execute_result"
    }
   ],
   "source": [
    "current.shape"
   ]
  },
  {
   "cell_type": "code",
   "execution_count": null,
   "metadata": {},
   "outputs": [],
   "source": []
  },
  {
   "cell_type": "code",
   "execution_count": null,
   "metadata": {},
   "outputs": [],
   "source": []
  },
  {
   "cell_type": "code",
   "execution_count": null,
   "metadata": {},
   "outputs": [],
   "source": []
  },
  {
   "cell_type": "code",
   "execution_count": null,
   "metadata": {},
   "outputs": [],
   "source": []
  },
  {
   "cell_type": "code",
   "execution_count": null,
   "metadata": {},
   "outputs": [],
   "source": [
    "# extract current data\n",
    "\n",
    "# each sample\n",
    "# container\n",
    "current = pd.DataFrame()\n",
    "for sample_name, fast5_path in fast5s[0].items():\n",
    "    \n",
    "    # load tombo-annotated reads\n",
    "    tmb = tombo_helper.TomboReads([fast5_path], corrected_group=tombo_groups[sample_name])\n",
    "    \n",
    "    \n",
    "    # each transcript\n",
    "    df2 = pd.DataFrame()\n",
    "    for transcript, position in plotSites[0].items():\n",
    "        \n",
    "        # get reads on a sams gene\n",
    "        reads = tmb.get_cs_reads(chrm=transcript, strand='+')\n",
    "        \n",
    "        # shuffle reads\n",
    "        random.shuffle(reads)\n",
    "\n",
    "\n",
    "        # each read\n",
    "        i = 0\n",
    "        df1 = []\n",
    "        for read in reads:\n",
    "            \n",
    "            # target region\n",
    "            plotStart = position - read.start - region\n",
    "            plotEnd = position - read.start + region\n",
    "            \n",
    "            # check read length\n",
    "            if plotStart < 0 or read.end < (position + region):\n",
    "                \n",
    "                continue\n",
    "                \n",
    "            # get current data\n",
    "            path = read.fn\n",
    "            f5 = h5py.File(path, 'r')\n",
    "            df1.append(f5['Analyses/' + tombo_groups[sample_name] + '/BaseCalled_template/Events'].value['norm_mean'][plotStart:plotEnd])\n",
    "            \n",
    "            # count (+ excess)\n",
    "            if i == 3300:\n",
    "                break\n",
    "            i += 1\n",
    "            \n",
    "            \n",
    "        df1 = pd.DataFrame(df1)\n",
    "\n",
    "        # label transcript\n",
    "        df1['sams'] = transcript\n",
    "        \n",
    "        df2 = df2.append(df1)\n",
    "        \n",
    "    \n",
    "    # label sample\n",
    "    df2['RNA'] = sample_name\n",
    "    \n",
    "    current = current.append(df2)\n"
   ]
  }
 ],
 "metadata": {
  "kernelspec": {
   "display_name": "Python 3",
   "language": "python",
   "name": "python3"
  },
  "language_info": {
   "codemirror_mode": {
    "name": "ipython",
    "version": 3
   },
   "file_extension": ".py",
   "mimetype": "text/x-python",
   "name": "python",
   "nbconvert_exporter": "python",
   "pygments_lexer": "ipython3",
   "version": "3.6.8"
  }
 },
 "nbformat": 4,
 "nbformat_minor": 2
}
