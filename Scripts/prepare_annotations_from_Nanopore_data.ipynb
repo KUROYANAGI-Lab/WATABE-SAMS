{
 "cells": [
  {
   "cell_type": "markdown",
   "metadata": {},
   "source": [
    "# Prepare transcript annotations from Nanopore data"
   ]
  },
  {
   "cell_type": "code",
   "execution_count": null,
   "metadata": {},
   "outputs": [],
   "source": [
    "# Data processing after basecalling and mapping to ce11 genome"
   ]
  },
  {
   "cell_type": "code",
   "execution_count": null,
   "metadata": {},
   "outputs": [],
   "source": [
    "# Download WS271 annotations from WormBase ParaSite FTP server (https://parasite.wormbase.org/ftp.html)\n",
    "# \"caenorhabditis_elegans.PRJNA13758.WBPS14.canonical_geneset.gtf\"\n",
    "# WS271 geneIDs can be download from ftp://ftp.wormbase.org/pub/wormbase/species/c_elegans/annotation/geneIDs/\n",
    "# \"c_elegans.PRJNA13758.WS271.geneIDs.txt\""
   ]
  },
  {
   "cell_type": "code",
   "execution_count": null,
   "metadata": {},
   "outputs": [],
   "source": [
    "# Generate transcript annotations from minimap2 bam with Pinfish\n",
    "# minimap2.cluster is a read-transcript correspondence list used in differential isoform test between wt and smg-2 mutant\n",
    "bash minimap2gff.sh -b minimap2.bam -o minimap2.gff -c minimap2.cluster -p /path/to/pinfishDirectory"
   ]
  },
  {
   "cell_type": "code",
   "execution_count": null,
   "metadata": {},
   "outputs": [],
   "source": [
    "# Generate intron annotations from gff\n",
    "# Intron_minimap2.gff and Exon_minimap2.gff will be produced\n",
    "python gff2introns.py --GFF minimap2.gff\n",
    "# also for WS271\n",
    "python gff2introns.py --GFF caenorhabditis_elegans.PRJNA13758.WBPS14.canonical_geneset.gtf"
   ]
  },
  {
   "cell_type": "code",
   "execution_count": null,
   "metadata": {},
   "outputs": [],
   "source": [
    "# Label generated transcripts with WS271 gene names\n",
    "intersectBed -s -loj -a minimap2.gff -b Exon_caenorhabditis_elegans.PRJNA13758.WBPS14.canonical_geneset.gtf > minimap2.intersectWS271.gff"
   ]
  },
  {
   "cell_type": "code",
   "execution_count": null,
   "metadata": {},
   "outputs": [],
   "source": [
    "# Filter and process intersected transcripts in R\n",
    "# Run directory must contains WS271 geneIDs list (c_elegans.PRJNA13758.WS271.geneIDs.txt),\n",
    "# WS271 annotations (caenorhabditis_elegans.PRJNA13758.WBPS14.canonical_geneset.gtf and Intron_caenorhabditis_elegans.PRJNA13758.WBPS14.canonical_geneset.gtf) and\n",
    "# *.SJ.out.tab files of STAR alignment (STAR_DRR003389.SJ.out.tab, STAR_DRR024071.SJ.out.tab, STAR_DRR024072.SJ.out.tab, STAR_SRR5202807.SJ.out.tab, STAR_SRR5202808.SJ.out.tab, STAR_SRR5202811.SJ.out.tab and STAR_SRR5202812.SJ.out.tab)\n",
    "Rscript process_nanopore_annotations.R minimap2.intersectWS271.gff Intron_minimap2.gff"
   ]
  }
 ],
 "metadata": {
  "kernelspec": {
   "display_name": "Bash",
   "language": "bash",
   "name": "bash"
  },
  "language_info": {
   "codemirror_mode": "shell",
   "file_extension": ".sh",
   "mimetype": "text/x-sh",
   "name": "bash"
  }
 },
 "nbformat": 4,
 "nbformat_minor": 2
}
