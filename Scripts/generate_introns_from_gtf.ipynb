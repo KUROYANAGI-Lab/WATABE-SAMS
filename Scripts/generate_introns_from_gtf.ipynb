{
 "cells": [
  {
   "cell_type": "code",
   "execution_count": null,
   "metadata": {},
   "outputs": [],
   "source": [
    "# generate intron annotations from gtf"
   ]
  },
  {
   "cell_type": "code",
   "execution_count": 1,
   "metadata": {},
   "outputs": [],
   "source": [
    "import getopt, re, os, sys, logging, time, datetime, copy\n",
    "from collections import defaultdict"
   ]
  },
  {
   "cell_type": "code",
   "execution_count": 2,
   "metadata": {},
   "outputs": [],
   "source": [
    "# smg-2 and N2\n",
    "path = '/Volumes/DATA_2/sams'\n",
    "gtf = 'collapsed_transcripts_N2_KH1668.gff'\n",
    "strand = 'stranded'"
   ]
  },
  {
   "cell_type": "code",
   "execution_count": 8,
   "metadata": {},
   "outputs": [],
   "source": [
    "# for filtered transcripts\n",
    "path = '/Volumes/DATA_2/sams'\n",
    "gtf = 'collapsed_transcripts_N2_KH1668.filtered.supported.named.gff'\n",
    "strand = 'stranded'"
   ]
  },
  {
   "cell_type": "code",
   "execution_count": 2,
   "metadata": {},
   "outputs": [],
   "source": [
    "# smg-2 and N2 L1\n",
    "path = '/Volumes/DATA_2/sams'\n",
    "gtf = 'collapsed_transcripts_N2_KH1668.L1.gff'\n",
    "strand = 'stranded'"
   ]
  },
  {
   "cell_type": "code",
   "execution_count": 2,
   "metadata": {},
   "outputs": [],
   "source": [
    "# N2 only\n",
    "path = '/Volumes/DATA_3/GridION_N2_Nathan'\n",
    "gtf = 'collapsed_transcripts_N2.gff'\n",
    "strand = 'stranded'"
   ]
  },
  {
   "cell_type": "code",
   "execution_count": 8,
   "metadata": {},
   "outputs": [],
   "source": [
    "# smg-2 only\n",
    "path = '/Volumes/DATA_2/sams'\n",
    "gtf = 'collapsed_transcripts_KH1668.gff'\n",
    "strand = 'stranded'"
   ]
  },
  {
   "cell_type": "code",
   "execution_count": 27,
   "metadata": {},
   "outputs": [],
   "source": [
    "# WS271\n",
    "path = '/Users/kuroyanagi/expression/Caenorhabditis_elegans/WS271'\n",
    "gtf = 'caenorhabditis_elegans.PRJNA13758.WBPS14.canonical_geneset.chr.gtf'\n",
    "strand = 'stranded'"
   ]
  },
  {
   "cell_type": "code",
   "execution_count": null,
   "metadata": {},
   "outputs": [],
   "source": []
  },
  {
   "cell_type": "code",
   "execution_count": 9,
   "metadata": {},
   "outputs": [
    {
     "data": {
      "text/plain": [
       "0"
      ]
     },
     "execution_count": 9,
     "metadata": {},
     "output_type": "execute_result"
    }
   ],
   "source": [
    "# use the awk command to generate Exon.gtf file\n",
    "cmd = \"less %s/%s | awk '{if($3==\\\"exon\\\"){print $0}}' > %s/Exon_%s\" % (path, gtf, path, gtf)\n",
    "os.system(cmd)     "
   ]
  },
  {
   "cell_type": "code",
   "execution_count": 4,
   "metadata": {},
   "outputs": [],
   "source": [
    "# load file\n",
    "def read_file(filename):\n",
    "    with open(filename) as fp:\n",
    "        List = [x.strip() for x in fp if len(x.strip()) > 0]\n",
    "        return List"
   ]
  },
  {
   "cell_type": "code",
   "execution_count": 5,
   "metadata": {},
   "outputs": [],
   "source": [
    "# gtf to introns\n",
    "def intron_gtf(gtf_file_list):\n",
    "    exon_s, exon_e = defaultdict(lambda: []), defaultdict(lambda: [])\n",
    "    parse_line_start = 0\n",
    "    for i in range(0, len(gtf_file_list)):\n",
    "        if gtf_file_list[i].startswith('#') or gtf_file_list[i].split('\\t')[2] != 'exon':\n",
    "            continue\n",
    "        parse_line_start = i\n",
    "        break\n",
    "    for i in range(parse_line_start, len(gtf_file_list)):\n",
    "        gtf_list = gtf_file_list[i].strip().split('\\t')\n",
    "        if gtf_list[2] != 'exon':\n",
    "            continue\n",
    "        transcript_id = re.sub('.*transcript_id |;.*', '', gtf_list[8])\n",
    "        exon_s[transcript_id].append(int(gtf_list[3]))\n",
    "        exon_e[transcript_id].append(int(gtf_list[4]))\n",
    "    trans = {}\n",
    "    fw = open((\"%s/Intron_%s\" % (path, gtf)), \"w\")\n",
    "    for i in range(parse_line_start, len(gtf_file_list)):\n",
    "        gtf_list = gtf_file_list[i].strip().split('\\t')\n",
    "        transcript_id = re.sub('.*transcript_id |;.*', '', gtf_list[8])\n",
    "        gene_id = re.sub('.*gene_id |;.*', '', gtf_list[8])\n",
    "        if transcript_id in trans:\n",
    "            trans[transcript_id] = 'false'\n",
    "        elif len(exon_s[transcript_id]) > 1:\n",
    "            exon_s[transcript_id].sort()\n",
    "            exon_e[transcript_id].sort()\n",
    "            for i in range(1, len(exon_s[transcript_id])):\n",
    "                if gtf_list[6] == '+':\n",
    "                    fw.write(\n",
    "                        \"%s\\t%s\\tintron\\t%s\\t%s\\t.\\t%s\\t.\\tgene_id %s; transcript_id %s; intron_number %s; total_intron_number %s; exon_1 %s_%s; exon_2 %s_%s;\\n\" % (\n",
    "                            gtf_list[0], gtf_list[1], str(int(exon_e[transcript_id][i - 1]) + 1),\n",
    "                            str(int(exon_s[transcript_id][i]) - 1),\n",
    "                            gtf_list[6], gene_id, transcript_id, i, len(exon_s[transcript_id]) - 1,\n",
    "                            exon_s[transcript_id][i - 1], exon_e[transcript_id][i - 1], exon_s[transcript_id][i],\n",
    "                            exon_e[transcript_id][i]))\n",
    "                else:\n",
    "                    fw.write(\n",
    "                        \"%s\\t%s\\tintron\\t%s\\t%s\\t.\\t%s\\t.\\tgene_id %s; transcript_id %s; intron_number %s; total_intron_number %s; exon_1 %s_%s; exon_2 %s_%s;\\n\" % (\n",
    "                            gtf_list[0], gtf_list[1], str(int(exon_e[transcript_id][i - 1]) + 1),\n",
    "                            str(int(exon_s[transcript_id][i]) - 1),\n",
    "                            gtf_list[6], gene_id, transcript_id, len(exon_s[transcript_id]) - i,\n",
    "                            len(exon_s[transcript_id]) - 1, exon_s[transcript_id][i - 1], exon_e[transcript_id][i - 1],\n",
    "                            exon_s[transcript_id][i], exon_e[transcript_id][i]))\n",
    "        trans[transcript_id] = 'true'\n",
    "    fw.close()"
   ]
  },
  {
   "cell_type": "code",
   "execution_count": 10,
   "metadata": {},
   "outputs": [],
   "source": [
    "gtf_file_list = read_file('%s/%s' % (path, gtf))"
   ]
  },
  {
   "cell_type": "code",
   "execution_count": 11,
   "metadata": {},
   "outputs": [],
   "source": [
    "intron_gtf(gtf_file_list)"
   ]
  },
  {
   "cell_type": "code",
   "execution_count": null,
   "metadata": {},
   "outputs": [],
   "source": []
  },
  {
   "cell_type": "code",
   "execution_count": null,
   "metadata": {},
   "outputs": [],
   "source": []
  },
  {
   "cell_type": "code",
   "execution_count": null,
   "metadata": {},
   "outputs": [],
   "source": []
  },
  {
   "cell_type": "code",
   "execution_count": null,
   "metadata": {},
   "outputs": [],
   "source": []
  }
 ],
 "metadata": {
  "kernelspec": {
   "display_name": "Python 3",
   "language": "python",
   "name": "python3"
  },
  "language_info": {
   "codemirror_mode": {
    "name": "ipython",
    "version": 3
   },
   "file_extension": ".py",
   "mimetype": "text/x-python",
   "name": "python",
   "nbconvert_exporter": "python",
   "pygments_lexer": "ipython3",
   "version": "3.6.8"
  }
 },
 "nbformat": 4,
 "nbformat_minor": 2
}
